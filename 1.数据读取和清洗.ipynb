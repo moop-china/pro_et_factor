{
 "cells": [
  {
   "cell_type": "markdown",
   "metadata": {},
   "source": [
    "# <b>背景</b>\n",
    "\n",
    "<p>ET（essential tremor）患者：原发性震颤(Essential tremor)患者，特发性震颤（essential tremor，ＥＴ）最常见的运动障碍性疾病，主要为手、头部及身体其他部位的姿位性和运动性震颤。发病部位：上肢、头、面部、下颚。</p>\n",
    "<p>参见文献： louis2003 Factors associated with increased risk of head tremor in essential tremor_ a community-based study in northern Manhattan）。</p>\n",
    "<p>中线震颤（midline tremor）：   包含：面部（下颌部+唇部）、舌头、声音、头部（又称颈部）和躯干。<p>\n",
    "\n",
    "    \n",
    "# <b>目的</b>\n",
    "1.1.\t探索ET患者伴中线震颤的危险因素。\n",
    "    \n",
    "1.2.\tET患者伴焦虑和抑郁的危险因素    \n",
    "    \n",
    "# <b>任务</b>\n",
    "\n",
    "这份数据来自内科，手工输入导致数据缺失严重或中英文混乱等问题，数据清理工作较为繁琐。"
   ]
  },
  {
   "cell_type": "markdown",
   "metadata": {},
   "source": [
    "# <b>第一步 引包</b>"
   ]
  },
  {
   "cell_type": "code",
   "execution_count": null,
   "metadata": {},
   "outputs": [],
   "source": [
    "#引包：引入所需python包\n",
    "import xlrd\n",
    "import os\n",
    "import re\n",
    "import pandas as pd\n",
    "import numpy as np\n",
    "from sklearn.metrics import roc_curve,auc\n",
    "import matplotlib as mpl\n",
    "from matplotlib import pyplot as plt\n",
    "from numpy import nan\n",
    "from sklearn import linear_model, datasets\n",
    "from sklearn.model_selection import train_test_split\n",
    "import seaborn as sns\n",
    "import time\n",
    "import warnings\n",
    "warnings.filterwarnings('ignore')"
   ]
  },
  {
   "cell_type": "markdown",
   "metadata": {},
   "source": [
    "# <b>第二步 读取excel数据</b>\n",
    "\n",
    "1）设置默认目录\n",
    "\n",
    "2）通过表单名查找数据\n",
    "\n",
    "3）读取该表单中所有数据"
   ]
  },
  {
   "cell_type": "code",
   "execution_count": null,
   "metadata": {
    "scrolled": true
   },
   "outputs": [],
   "source": [
    "dir = \"./\"\n",
    "print(os.listdir(dir))"
   ]
  },
  {
   "cell_type": "code",
   "execution_count": null,
   "metadata": {},
   "outputs": [],
   "source": [
    "# 读取excel数据\n",
    "df = pd.DataFrame()\n",
    "file = \"data/ET虚构数据.xlsx\"\n",
    "data = xlrd.open_workbook(dir+file).sheet_by_name(\"总表\")\n",
    "df = pd.read_excel(dir+file,data.name,index_col=None,na_values=['9999'])\n",
    "df.shape"
   ]
  },
  {
   "cell_type": "markdown",
   "metadata": {},
   "source": [
    "# <b>第三步 探索数据 </b>\n",
    "<p>了解数据分布和数据质量</p>\n",
    "<b>1) 查看字段名</b>"
   ]
  },
  {
   "cell_type": "code",
   "execution_count": null,
   "metadata": {},
   "outputs": [],
   "source": [
    "df.columns   #查看字段名"
   ]
  },
  {
   "cell_type": "markdown",
   "metadata": {},
   "source": [
    "<p><b>发现：</b></p>\n",
    "<p>---字段名有重复; </p>\n",
    "<p>---字段名中带了中英文符号和注解，不方便后面使用列名。 </p>\n",
    "<p><b>2) 查看数据类型 </b></p>"
   ]
  },
  {
   "cell_type": "code",
   "execution_count": null,
   "metadata": {},
   "outputs": [],
   "source": [
    "#-------DataType of columns\n",
    "#print(df.dtypes)  #  [25:55]       #view  the columns types           \n",
    "dtype_df = df.dtypes.reset_index()    # calculate the types stat \n",
    "dtype_df.columns = [\"Count\", \"Column Type\"]\n",
    "dtype_df.groupby(\"Column Type\").aggregate('count').reset_index() "
   ]
  },
  {
   "cell_type": "code",
   "execution_count": null,
   "metadata": {},
   "outputs": [],
   "source": [
    "df.info()"
   ]
  },
  {
   "cell_type": "markdown",
   "metadata": {},
   "source": [
    "<b>3) 查看值域</b>"
   ]
  },
  {
   "cell_type": "code",
   "execution_count": null,
   "metadata": {},
   "outputs": [],
   "source": [
    "df1 = df.iloc[:,2:]\n",
    "for i in df1.columns:\n",
    "    uniquevalue = str(df1[i].unique())\n",
    "    print (i,\":  \",uniquevalue)"
   ]
  },
  {
   "cell_type": "markdown",
   "metadata": {},
   "source": [
    "<p><b> 发现 </b></p>\n",
    "--病程字段：有“xx月”，空值，“查体见”，'自述，但起病时间不详'等取值，影响字段转成数值型继续进行分析；\n",
    "--\n",
    "\n",
    "<b>4）数据缺失情况 </b>"
   ]
  },
  {
   "cell_type": "code",
   "execution_count": null,
   "metadata": {},
   "outputs": [],
   "source": [
    "#missing data\n",
    "print (\"-----------------------------总记录数： \" ,df.index.size,\"条    --------------------------\")\n",
    "total = df.isnull().sum().sort_values(ascending=False)\n",
    "percent = (df.isnull().sum()/df.isnull().count()).sort_values(ascending=False)\n",
    "missing_data = pd.concat([total, percent], axis=1, keys=['missing_count', 'missing_Percent'])\n",
    "missing_data.head(20)"
   ]
  },
  {
   "cell_type": "markdown",
   "metadata": {},
   "source": [
    "<p><b>发现：</b></p>\n",
    "<p>---xx病程缺失较多：缺失值为未知病程或未出现该震颤; </p>\n",
    "<p>---xx震颤：缺失值为未出现该震颤。 </p>"
   ]
  },
  {
   "cell_type": "markdown",
   "metadata": {},
   "source": [
    "# <b>第四步 预处理 </b>\n",
    "数据清理/预处理是一个非常繁琐的工作，根据业务需求和数据质量而不同，没有标准的流程。下面根据实列来了解常用的一些操作：\n",
    "\n",
    "<b>1）删除重复字段</b>\n",
    "\n",
    "从“检查日期”中提取年份信息"
   ]
  },
  {
   "cell_type": "code",
   "execution_count": null,
   "metadata": {},
   "outputs": [],
   "source": [
    "x = [2]  # 两个 性别 字段 重复了\n",
    "cols = df.columns[x]\n",
    "print (\" 重复列,共计\",len(cols),\"个字段:    \" , cols)\n",
    "df.drop(cols,axis=1,inplace=True)"
   ]
  },
  {
   "cell_type": "markdown",
   "metadata": {},
   "source": [
    "<b> 2）删除字段名称中无用字符 </b>"
   ]
  },
  {
   "cell_type": "code",
   "execution_count": null,
   "metadata": {},
   "outputs": [],
   "source": [
    "df.columns = [re.sub('（.*?）', '', hdr)  for hdr in df.columns]  #删除 中文括号及括号内字符\n",
    "df.columns = [re.sub(u\"\\\\(.*?\\\\)|\\\\{.*?}|\\\\[.*?]\", '', hdr)  for hdr in df.columns]  #删除 英文(半角)符号及符号内字符\n",
    "df.columns = [re.sub(\"）\", '', hdr)  for hdr in df.columns]   #删除 未匹配的中文括号\n",
    "print(\"data rows and columns : \", df.shape )    #209条数据，57个字段"
   ]
  },
  {
   "cell_type": "code",
   "execution_count": null,
   "metadata": {},
   "outputs": [],
   "source": [
    "df.columns"
   ]
  },
  {
   "cell_type": "markdown",
   "metadata": {},
   "source": [
    "<b> 3) 病程字段清洗 </b>\n"
   ]
  },
  {
   "cell_type": "code",
   "execution_count": null,
   "metadata": {},
   "outputs": [],
   "source": [
    "# 替换数值型缺失值为零\n",
    "df.loc[:,[\"总病程\", \"上肢病程\", \"下肢病程\",\"颈部病程\", \"声音病程\", \"面部病程\", \"舌病程\", \"躯干病程\"]].fillna(0)\n",
    "df.head(2)"
   ]
  },
  {
   "cell_type": "code",
   "execution_count": null,
   "metadata": {},
   "outputs": [],
   "source": [
    "#替换字符串缺失值为零\n",
    "for i in [\"总病程\", \"上肢病程\", \"下肢病程\",\"颈部病程\", \"声音病程\", \"面部病程\", \"舌病程\", \"躯干病程\"]:\n",
    "    df.loc[df[i].astype(str)==\"\",i] =0\n",
    "    df.loc[df[i].astype(str) ==\"nan\",i] = 0\n",
    "    df.loc[df[i].astype(str) == \"查体见\",i] = \"\"   #临时补充的，后期可能有其他方式处理\n",
    "df.head(2)"
   ]
  },
  {
   "cell_type": "code",
   "execution_count": null,
   "metadata": {},
   "outputs": [],
   "source": [
    "for i in [\"总病程\", \"上肢病程\", \"下肢病程\",\"颈部病程\", \"声音病程\", \"面部病程\", \"舌病程\", \"躯干病程\"]:\n",
    "    \n",
    "    df[i] = np.where(df[i].astype(str).str.contains(r\"\\d\"),df[i],\"\")   #不含数值的字符串替换为空值\n",
    "    df.loc[df[i].astype(str)==\"\",i] =0.001                             #将空值设置为任意值，例如0.001，避免字段转成数值型时，缺失值导致报错\n",
    "    df[i] = np.where(df[i].astype(str).str.contains(\"月\"),df[i].astype(str).apply(lambda x:str(float(re.sub(\"\\D\",\"\",x))/12)),df[i])  #含“月”的取值，只取数值\n",
    "    df[i] = df[i].astype(float)                                      # 将只含数值的列转成浮点数值型\n",
    "df.head(2)"
   ]
  },
  {
   "cell_type": "markdown",
   "metadata": {},
   "source": [
    "# <b>第五步 导出结果 </b>\n"
   ]
  },
  {
   "cell_type": "code",
   "execution_count": null,
   "metadata": {},
   "outputs": [],
   "source": [
    "df.to_csv(dir+\"output/df_clean.csv\")"
   ]
  },
  {
   "cell_type": "code",
   "execution_count": null,
   "metadata": {},
   "outputs": [],
   "source": []
  }
 ],
 "metadata": {
  "kernelspec": {
   "display_name": "Python 3",
   "language": "python",
   "name": "python3"
  },
  "language_info": {
   "codemirror_mode": {
    "name": "ipython",
    "version": 3
   },
   "file_extension": ".py",
   "mimetype": "text/x-python",
   "name": "python",
   "nbconvert_exporter": "python",
   "pygments_lexer": "ipython3",
   "version": "3.7.1"
  }
 },
 "nbformat": 4,
 "nbformat_minor": 2
}
