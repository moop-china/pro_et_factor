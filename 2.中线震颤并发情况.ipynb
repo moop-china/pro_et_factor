{
 "cells": [
  {
   "cell_type": "markdown",
   "metadata": {},
   "source": [
    "# <b>背景</b>\n",
    "\n",
    "<p>ET（essential tremor）患者：原发性震颤(Essential tremor)患者，特发性震颤（essential tremor，ＥＴ）最常见的运动障碍性疾病，主要为手、头部及身体其他部位的姿位性和运动性震颤。发病部位：上肢、头、面部、下颚。</p>\n",
    "<p>参见文献： louis2003 Factors associated with increased risk of head tremor in essential tremor_ a community-based study in northern Manhattan）。</p>\n",
    "<p>中线震颤（midline tremor）：   包含：面部（下颌部+唇部）、舌头、声音、头部（又称颈部）和躯干。<p>\n",
    "\n",
    "    \n",
    "# <b>目的</b>\n",
    "1.1.\t探索ET患者伴中线震颤的危险因素。\n",
    "    \n",
    "1.2.\tET患者伴焦虑和抑郁的危险因素    \n",
    "    \n",
    "# <b>任务</b>\n",
    "\n",
    "探索ET患者伴中线震颤的危险因素：统计推断（独立性检验）面部（下颌部+唇部）、舌头、声音、头部（又称颈部）、躯干，以及焦虑和抑郁 等的关系（合并、伴发情况）\n"
   ]
  },
  {
   "cell_type": "markdown",
   "metadata": {},
   "source": [
    "# <b>第一步 引包</b>"
   ]
  },
  {
   "cell_type": "code",
   "execution_count": 28,
   "metadata": {},
   "outputs": [],
   "source": [
    "#引包：引入所需python包\n",
    "import xlrd\n",
    "import os\n",
    "import re\n",
    "import pandas as pd\n",
    "import numpy as np\n",
    "import itertools\n",
    "from scipy.stats import chi2_contingency\n",
    "from sklearn.metrics import roc_curve,auc\n",
    "import matplotlib as mpl\n",
    "from matplotlib import pyplot as plt\n",
    "from numpy import nan\n",
    "from sklearn import linear_model, datasets\n",
    "from sklearn.model_selection import train_test_split\n",
    "import seaborn as sns\n",
    "import time\n",
    "import warnings\n",
    "warnings.filterwarnings('ignore')"
   ]
  },
  {
   "cell_type": "markdown",
   "metadata": {},
   "source": [
    "# <b>第二步 读取清洗后数据</b>\n",
    "\n",
    "1）设置默认目录\n",
    "\n",
    "2）读取csv文件；\n"
   ]
  },
  {
   "cell_type": "code",
   "execution_count": 2,
   "metadata": {},
   "outputs": [
    {
     "name": "stdout",
     "output_type": "stream",
     "text": [
      "['.ipynb_checkpoints', '1.数据读取和清洗.ipynb', 'data', 'output', '2.中线震颤并发情况.ipynb']\n"
     ]
    }
   ],
   "source": [
    "dir = \"./\"\n",
    "print(os.listdir(dir))"
   ]
  },
  {
   "cell_type": "code",
   "execution_count": 47,
   "metadata": {},
   "outputs": [
    {
     "data": {
      "text/html": [
       "<div>\n",
       "<style scoped>\n",
       "    .dataframe tbody tr th:only-of-type {\n",
       "        vertical-align: middle;\n",
       "    }\n",
       "\n",
       "    .dataframe tbody tr th {\n",
       "        vertical-align: top;\n",
       "    }\n",
       "\n",
       "    .dataframe thead th {\n",
       "        text-align: right;\n",
       "    }\n",
       "</style>\n",
       "<table border=\"1\" class=\"dataframe\">\n",
       "  <thead>\n",
       "    <tr style=\"text-align: right;\">\n",
       "      <th></th>\n",
       "      <th>编号</th>\n",
       "      <th>姓名</th>\n",
       "      <th>性别</th>\n",
       "      <th>工作状态合并栏</th>\n",
       "      <th>婚姻状况合并栏</th>\n",
       "      <th>年龄</th>\n",
       "      <th>发病年龄</th>\n",
       "      <th>主要受累部位=2</th>\n",
       "      <th>总病程</th>\n",
       "      <th>上肢病程</th>\n",
       "      <th>...</th>\n",
       "      <th>声音</th>\n",
       "      <th>颈部</th>\n",
       "      <th>面声颈部位分级分数</th>\n",
       "      <th>面声颈量表分数</th>\n",
       "      <th>面声颈有无</th>\n",
       "      <th>声颈量表部位分级</th>\n",
       "      <th>声颈量表分数</th>\n",
       "      <th>声颈有无</th>\n",
       "      <th>下肢震颤</th>\n",
       "      <th>意向性震颤</th>\n",
       "    </tr>\n",
       "  </thead>\n",
       "  <tbody>\n",
       "    <tr>\n",
       "      <th>0</th>\n",
       "      <td>N001</td>\n",
       "      <td>马叔杏</td>\n",
       "      <td>1</td>\n",
       "      <td>1</td>\n",
       "      <td>1</td>\n",
       "      <td>63</td>\n",
       "      <td>59</td>\n",
       "      <td>1</td>\n",
       "      <td>4.0</td>\n",
       "      <td>0.5</td>\n",
       "      <td>...</td>\n",
       "      <td>0</td>\n",
       "      <td>1</td>\n",
       "      <td>1</td>\n",
       "      <td>2</td>\n",
       "      <td>1</td>\n",
       "      <td>1</td>\n",
       "      <td>2</td>\n",
       "      <td>1</td>\n",
       "      <td>1</td>\n",
       "      <td>0</td>\n",
       "    </tr>\n",
       "    <tr>\n",
       "      <th>1</th>\n",
       "      <td>N002</td>\n",
       "      <td>方怀琼</td>\n",
       "      <td>0</td>\n",
       "      <td>2</td>\n",
       "      <td>1</td>\n",
       "      <td>64</td>\n",
       "      <td>44</td>\n",
       "      <td>0</td>\n",
       "      <td>20.0</td>\n",
       "      <td>20.0</td>\n",
       "      <td>...</td>\n",
       "      <td>0</td>\n",
       "      <td>0</td>\n",
       "      <td>0</td>\n",
       "      <td>0</td>\n",
       "      <td>0</td>\n",
       "      <td>0</td>\n",
       "      <td>0</td>\n",
       "      <td>0</td>\n",
       "      <td>0</td>\n",
       "      <td>0</td>\n",
       "    </tr>\n",
       "  </tbody>\n",
       "</table>\n",
       "<p>2 rows × 57 columns</p>\n",
       "</div>"
      ],
      "text/plain": [
       "     编号   姓名  性别  工作状态合并栏  婚姻状况合并栏  年龄  发病年龄  主要受累部位=2   总病程  上肢病程  ...  声音  \\\n",
       "0  N001  马叔杏   1        1        1  63    59         1   4.0   0.5  ...   0   \n",
       "1  N002  方怀琼   0        2        1  64    44         0  20.0  20.0  ...   0   \n",
       "\n",
       "   颈部  面声颈部位分级分数  面声颈量表分数  面声颈有无  声颈量表部位分级 声颈量表分数  声颈有无  下肢震颤  意向性震颤  \n",
       "0   1          1        2      1         1      2     1     1      0  \n",
       "1   0          0        0      0         0      0     0     0      0  \n",
       "\n",
       "[2 rows x 57 columns]"
      ]
     },
     "execution_count": 47,
     "metadata": {},
     "output_type": "execute_result"
    }
   ],
   "source": [
    "df = pd.read_csv(dir+\"output/df_clean.csv\",index_col=0) #第一列为行索引\n",
    "#df = df.drop(columns = df.columns[0]) #删除不需要的列\n",
    "df.head(2)"
   ]
  },
  {
   "cell_type": "markdown",
   "metadata": {},
   "source": [
    "# <b>第三步 准备数据 </b>\n",
    "根据数据分析任务，处理数据\n",
    "\n",
    "<b> 1) 筛选数据 </b>\n",
    "\n",
    "筛选与中线震颤、焦虑、抑郁病症等有关字段"
   ]
  },
  {
   "cell_type": "code",
   "execution_count": 48,
   "metadata": {},
   "outputs": [
    {
     "data": {
      "text/plain": [
       "Index(['编号', '姓名', '静止性上肢震颤分数', '运动性上肢震颤总分', '运动性下肢震颤分数', '运动性四肢震颤总分',\n",
       "       '上肢静止性震颤', '下肢静止性震颤', '四肢静止性震颤', '意向性震颤', '面部', '声音', '颈部', '面声颈部位分级分数',\n",
       "       '面声颈量表分数', '面声颈有无', '声颈量表部位分级', '声颈量表分数', '声颈有无', '下肢震颤', '抑郁分类',\n",
       "       '焦虑分类'],\n",
       "      dtype='object')"
      ]
     },
     "execution_count": 48,
     "metadata": {},
     "output_type": "execute_result"
    }
   ],
   "source": [
    "#filter 函数 ： \n",
    "midline1 = df.filter(items =  [\"编号\",\"姓名\",'静止性上肢震颤分数','运动性上肢震颤总分','运动性下肢震颤分数','运动性四肢震颤总分','上肢静止性震颤', '下肢静止性震颤', '四肢静止性震颤', '意向性震颤',  '面部', '声音', '颈部','面声颈部位分级分数', '面声颈量表分数','面声颈有无', '声颈量表部位分级', '声颈量表分数', '声颈有无', '下肢震颤', '抑郁分类','焦虑分类'])\n",
    "midline1.columns"
   ]
  },
  {
   "cell_type": "markdown",
   "metadata": {},
   "source": [
    "<b> 2) 缺失值填补和类型转换 </b>"
   ]
  },
  {
   "cell_type": "code",
   "execution_count": 49,
   "metadata": {},
   "outputs": [
    {
     "name": "stdout",
     "output_type": "stream",
     "text": [
      "静止性上肢震颤分数 :   [0 2 3 6 1 4]\n",
      "运动性上肢震颤总分 :   [14 18 28 21 13 25 20 37  6 30 24 22 17 45 27 15 11 29 16 23 12 40 41 10\n",
      " 32  8 26 19  5  3  7 35 34 42 33  9 31 52  4]\n",
      "运动性下肢震颤分数 :   [ 2  0  3  6  4  8 12  1]\n",
      "运动性四肢震颤总分 :   [16 18 31 27 15 29 20 37  9 30 28 22 21 23 25 45 13 12 40 11 49 24 10 32\n",
      " 44 17 14 26 19  7  3 35 36 46 41 34  6  5 52  8  4 38]\n",
      "上肢静止性震颤 :   [0. 1.]\n",
      "下肢静止性震颤 :   [0. 1.]\n",
      "四肢静止性震颤 :   [0 1]\n",
      "意向性震颤 :   [0 1]\n",
      "面部 :   [0 1]\n",
      "声音 :   [0 1]\n",
      "颈部 :   [1 0]\n",
      "面声颈部位分级分数 :   [1 0 2]\n",
      "面声颈量表分数 :   [2 0 1 3 5 6 4 9]\n",
      "面声颈有无 :   [1 0]\n",
      "声颈量表部位分级 :   [1 0 2]\n",
      "声颈量表分数 :   [2 0 1 3 5 6 4 7]\n",
      "声颈有无 :   [1 0]\n",
      "下肢震颤 :   [1 0]\n",
      "抑郁分类 :   [0 1]\n",
      "焦虑分类 :   [1 0]\n"
     ]
    }
   ],
   "source": [
    "midline1 = midline1.fillna(0)  #填补缺失值\n",
    "                \n",
    "for i in midline1.columns[2:]:   #再次查看值域\n",
    "    uniquevalue = str(midline1[i].unique())\n",
    "    print (i,\":  \",uniquevalue)"
   ]
  },
  {
   "cell_type": "code",
   "execution_count": 50,
   "metadata": {},
   "outputs": [
    {
     "name": "stdout",
     "output_type": "stream",
     "text": [
      "<class 'pandas.core.frame.DataFrame'>\n",
      "Int64Index: 209 entries, 0 to 208\n",
      "Data columns (total 22 columns):\n",
      "编号           209 non-null object\n",
      "姓名           209 non-null object\n",
      "静止性上肢震颤分数    209 non-null int64\n",
      "运动性上肢震颤总分    209 non-null int64\n",
      "运动性下肢震颤分数    209 non-null int64\n",
      "运动性四肢震颤总分    209 non-null int64\n",
      "上肢静止性震颤      209 non-null float64\n",
      "下肢静止性震颤      209 non-null float64\n",
      "四肢静止性震颤      209 non-null int64\n",
      "意向性震颤        209 non-null int64\n",
      "面部           209 non-null int64\n",
      "声音           209 non-null int64\n",
      "颈部           209 non-null int64\n",
      "面声颈部位分级分数    209 non-null int64\n",
      "面声颈量表分数      209 non-null int64\n",
      "面声颈有无        209 non-null int64\n",
      "声颈量表部位分级     209 non-null int64\n",
      "声颈量表分数       209 non-null int64\n",
      "声颈有无         209 non-null int64\n",
      "下肢震颤         209 non-null int64\n",
      "抑郁分类         209 non-null int64\n",
      "焦虑分类         209 non-null int64\n",
      "dtypes: float64(2), int64(18), object(2)\n",
      "memory usage: 37.6+ KB\n"
     ]
    }
   ],
   "source": [
    "midline1.info() #再次看看类型"
   ]
  },
  {
   "cell_type": "code",
   "execution_count": 51,
   "metadata": {},
   "outputs": [],
   "source": [
    "midline1 = midline1.astype(\"str\")  #先转成字符型\n",
    "midline1.iloc[:,2:] = midline1.iloc[:,2:].fillna(0)  #缺失值填补\n",
    "midline1.iloc[:,2:] = midline1.iloc[:,2:].astype(float).astype(int)\n",
    "midline1[midline1==\"nan\"] = 0"
   ]
  },
  {
   "cell_type": "markdown",
   "metadata": {},
   "source": [
    "<b> 3）衍生新变量 </b>\n",
    "\n",
    "添加分类标签\n",
    "\n",
    "--对于列的值域是【0,1】时，分类标签就是该列\n",
    "\n",
    "--对于列有多个值时，根据该列衍生新列作为分类标签"
   ]
  },
  {
   "cell_type": "code",
   "execution_count": 52,
   "metadata": {},
   "outputs": [
    {
     "name": "stdout",
     "output_type": "stream",
     "text": [
      "静止性上肢震颤分数\n",
      "运动性上肢震颤总分\n",
      "运动性下肢震颤分数\n",
      "运动性四肢震颤总分\n",
      "面声颈部位分级分数\n",
      "面声颈量表分数\n",
      "声颈量表部位分级\n",
      "声颈量表分数\n"
     ]
    }
   ],
   "source": [
    "for i in midline1.columns[2:]:    \n",
    "    if (list(midline1[i].unique()) not in [[0,1],[1,0]]):\n",
    "        print (i)\n",
    "        midline1[i+\"有无\"] = [(x>0)+0 for x in midline1[i]]"
   ]
  },
  {
   "cell_type": "code",
   "execution_count": 53,
   "metadata": {},
   "outputs": [
    {
     "data": {
      "text/plain": [
       "Index(['编号', '姓名', '静止性上肢震颤分数', '运动性上肢震颤总分', '运动性下肢震颤分数', '运动性四肢震颤总分',\n",
       "       '上肢静止性震颤', '下肢静止性震颤', '四肢静止性震颤', '意向性震颤', '面部', '声音', '颈部', '面声颈部位分级分数',\n",
       "       '面声颈量表分数', '面声颈有无', '声颈量表部位分级', '声颈量表分数', '声颈有无', '下肢震颤', '抑郁分类',\n",
       "       '焦虑分类', '静止性上肢震颤分数有无', '运动性上肢震颤总分有无', '运动性下肢震颤分数有无', '运动性四肢震颤总分有无',\n",
       "       '面声颈部位分级分数有无', '面声颈量表分数有无', '声颈量表部位分级有无', '声颈量表分数有无'],\n",
       "      dtype='object')"
      ]
     },
     "execution_count": 53,
     "metadata": {},
     "output_type": "execute_result"
    }
   ],
   "source": [
    "midline1.columns"
   ]
  },
  {
   "cell_type": "code",
   "execution_count": 54,
   "metadata": {},
   "outputs": [
    {
     "data": {
      "text/html": [
       "<div>\n",
       "<style scoped>\n",
       "    .dataframe tbody tr th:only-of-type {\n",
       "        vertical-align: middle;\n",
       "    }\n",
       "\n",
       "    .dataframe tbody tr th {\n",
       "        vertical-align: top;\n",
       "    }\n",
       "\n",
       "    .dataframe thead th {\n",
       "        text-align: right;\n",
       "    }\n",
       "</style>\n",
       "<table border=\"1\" class=\"dataframe\">\n",
       "  <thead>\n",
       "    <tr style=\"text-align: right;\">\n",
       "      <th></th>\n",
       "      <th>编号</th>\n",
       "      <th>姓名</th>\n",
       "      <th>静止性上肢震颤分数</th>\n",
       "      <th>运动性上肢震颤总分</th>\n",
       "      <th>运动性下肢震颤分数</th>\n",
       "      <th>运动性四肢震颤总分</th>\n",
       "      <th>上肢静止性震颤</th>\n",
       "      <th>下肢静止性震颤</th>\n",
       "      <th>四肢静止性震颤</th>\n",
       "      <th>意向性震颤</th>\n",
       "      <th>...</th>\n",
       "      <th>抑郁分类</th>\n",
       "      <th>焦虑分类</th>\n",
       "      <th>静止性上肢震颤分数有无</th>\n",
       "      <th>运动性上肢震颤总分有无</th>\n",
       "      <th>运动性下肢震颤分数有无</th>\n",
       "      <th>运动性四肢震颤总分有无</th>\n",
       "      <th>面声颈部位分级分数有无</th>\n",
       "      <th>面声颈量表分数有无</th>\n",
       "      <th>声颈量表部位分级有无</th>\n",
       "      <th>声颈量表分数有无</th>\n",
       "    </tr>\n",
       "  </thead>\n",
       "  <tbody>\n",
       "    <tr>\n",
       "      <th>0</th>\n",
       "      <td>N001</td>\n",
       "      <td>马叔杏</td>\n",
       "      <td>0</td>\n",
       "      <td>14</td>\n",
       "      <td>2</td>\n",
       "      <td>16</td>\n",
       "      <td>0</td>\n",
       "      <td>0</td>\n",
       "      <td>0</td>\n",
       "      <td>0</td>\n",
       "      <td>...</td>\n",
       "      <td>0</td>\n",
       "      <td>1</td>\n",
       "      <td>0</td>\n",
       "      <td>1</td>\n",
       "      <td>1</td>\n",
       "      <td>1</td>\n",
       "      <td>1</td>\n",
       "      <td>1</td>\n",
       "      <td>1</td>\n",
       "      <td>1</td>\n",
       "    </tr>\n",
       "    <tr>\n",
       "      <th>1</th>\n",
       "      <td>N002</td>\n",
       "      <td>方怀琼</td>\n",
       "      <td>0</td>\n",
       "      <td>18</td>\n",
       "      <td>0</td>\n",
       "      <td>18</td>\n",
       "      <td>0</td>\n",
       "      <td>0</td>\n",
       "      <td>0</td>\n",
       "      <td>0</td>\n",
       "      <td>...</td>\n",
       "      <td>0</td>\n",
       "      <td>0</td>\n",
       "      <td>0</td>\n",
       "      <td>1</td>\n",
       "      <td>0</td>\n",
       "      <td>1</td>\n",
       "      <td>0</td>\n",
       "      <td>0</td>\n",
       "      <td>0</td>\n",
       "      <td>0</td>\n",
       "    </tr>\n",
       "  </tbody>\n",
       "</table>\n",
       "<p>2 rows × 30 columns</p>\n",
       "</div>"
      ],
      "text/plain": [
       "     编号   姓名 静止性上肢震颤分数 运动性上肢震颤总分 运动性下肢震颤分数 运动性四肢震颤总分 上肢静止性震颤 下肢静止性震颤 四肢静止性震颤  \\\n",
       "0  N001  马叔杏         0        14         2        16       0       0       0   \n",
       "1  N002  方怀琼         0        18         0        18       0       0       0   \n",
       "\n",
       "  意向性震颤  ... 抑郁分类 焦虑分类 静止性上肢震颤分数有无 运动性上肢震颤总分有无 运动性下肢震颤分数有无 运动性四肢震颤总分有无  \\\n",
       "0     0  ...    0    1           0           1           1           1   \n",
       "1     0  ...    0    0           0           1           0           1   \n",
       "\n",
       "  面声颈部位分级分数有无 面声颈量表分数有无 声颈量表部位分级有无 声颈量表分数有无  \n",
       "0           1         1          1        1  \n",
       "1           0         0          0        0  \n",
       "\n",
       "[2 rows x 30 columns]"
      ]
     },
     "execution_count": 54,
     "metadata": {},
     "output_type": "execute_result"
    }
   ],
   "source": [
    "midline1.head(2)"
   ]
  },
  {
   "cell_type": "markdown",
   "metadata": {},
   "source": [
    "# <b> 第四步 独立性检验 </b>\n",
    "\n",
    "H0：两变量独立；(p>0.05)    H1：两变量有关（p<0.05)"
   ]
  },
  {
   "cell_type": "code",
   "execution_count": 56,
   "metadata": {},
   "outputs": [
    {
     "name": "stdout",
     "output_type": "stream",
     "text": [
      "频数（中线震颤）的卡方检验  ： \n",
      "\n"
     ]
    },
    {
     "data": {
      "text/html": [
       "<div>\n",
       "<style scoped>\n",
       "    .dataframe tbody tr th:only-of-type {\n",
       "        vertical-align: middle;\n",
       "    }\n",
       "\n",
       "    .dataframe tbody tr th {\n",
       "        vertical-align: top;\n",
       "    }\n",
       "\n",
       "    .dataframe thead th {\n",
       "        text-align: right;\n",
       "    }\n",
       "</style>\n",
       "<table border=\"1\" class=\"dataframe\">\n",
       "  <thead>\n",
       "    <tr style=\"text-align: right;\">\n",
       "      <th></th>\n",
       "      <th>col1</th>\n",
       "      <th>col2</th>\n",
       "      <th>卡方值</th>\n",
       "      <th>独立性检验P值</th>\n",
       "      <th>alpha=0.05独立性检验</th>\n",
       "    </tr>\n",
       "  </thead>\n",
       "  <tbody>\n",
       "    <tr>\n",
       "      <th>0</th>\n",
       "      <td>上肢静止性震颤</td>\n",
       "      <td>下肢静止性震颤</td>\n",
       "      <td>9.425588</td>\n",
       "      <td>2.139784e-03</td>\n",
       "      <td>False</td>\n",
       "    </tr>\n",
       "    <tr>\n",
       "      <th>0</th>\n",
       "      <td>上肢静止性震颤</td>\n",
       "      <td>四肢静止性震颤</td>\n",
       "      <td>198.082345</td>\n",
       "      <td>5.474154e-45</td>\n",
       "      <td>False</td>\n",
       "    </tr>\n",
       "    <tr>\n",
       "      <th>0</th>\n",
       "      <td>上肢静止性震颤</td>\n",
       "      <td>运动性上肢震颤总分有无</td>\n",
       "      <td>0.000000</td>\n",
       "      <td>1.000000e+00</td>\n",
       "      <td>True</td>\n",
       "    </tr>\n",
       "    <tr>\n",
       "      <th>0</th>\n",
       "      <td>上肢静止性震颤</td>\n",
       "      <td>运动性下肢震颤分数有无</td>\n",
       "      <td>0.005681</td>\n",
       "      <td>9.399194e-01</td>\n",
       "      <td>True</td>\n",
       "    </tr>\n",
       "  </tbody>\n",
       "</table>\n",
       "</div>"
      ],
      "text/plain": [
       "      col1         col2         卡方值       独立性检验P值  alpha=0.05独立性检验\n",
       "0  上肢静止性震颤      下肢静止性震颤    9.425588  2.139784e-03            False\n",
       "0  上肢静止性震颤      四肢静止性震颤  198.082345  5.474154e-45            False\n",
       "0  上肢静止性震颤  运动性上肢震颤总分有无    0.000000  1.000000e+00             True\n",
       "0  上肢静止性震颤  运动性下肢震颤分数有无    0.005681  9.399194e-01             True"
      ]
     },
     "execution_count": 56,
     "metadata": {},
     "output_type": "execute_result"
    }
   ],
   "source": [
    "print(\"频数（中线震颤）的卡方检验  ： \\n\")\n",
    "result =pd.DataFrame()\n",
    "tremors = ['上肢静止性震颤', '下肢静止性震颤', '四肢静止性震颤','运动性上肢震颤总分有无', '运动性下肢震颤分数有无', '运动性四肢震颤总分有无', '下肢震颤','面部', '声音', '颈部','声颈有无',  '面声颈有无', \n",
    "            '抑郁分类', '焦虑分类','意向性震颤' ]\n",
    "for i in itertools.combinations(tremors,2):\n",
    "    data = pd.crosstab(midline1[i[0]],midline1[i[1]],margins = False)   \n",
    "\n",
    "    #print (data)\n",
    "    g, p, dof, expctd = chi2_contingency(data)   #第一个值为卡方值，第二个值为P值，第三个值为自由度，第四个为与原数据数组同维度的对应理论值\n",
    "    line = [(i[0],i[1],g,p)]\n",
    "    result = result.append(line)\n",
    "result.columns = [\"col1\",\"col2\",\"卡方值\",\"独立性检验P值\"]  #df表适合组合  \n",
    "\n",
    "result[\"alpha=0.05独立性检验\"] = [x>0.05 for x in result[\"独立性检验P值\"]]\n",
    "result.head(4)"
   ]
  },
  {
   "cell_type": "code",
   "execution_count": 57,
   "metadata": {},
   "outputs": [
    {
     "data": {
      "text/html": [
       "<div>\n",
       "<style scoped>\n",
       "    .dataframe tbody tr th:only-of-type {\n",
       "        vertical-align: middle;\n",
       "    }\n",
       "\n",
       "    .dataframe tbody tr th {\n",
       "        vertical-align: top;\n",
       "    }\n",
       "\n",
       "    .dataframe thead th {\n",
       "        text-align: right;\n",
       "    }\n",
       "</style>\n",
       "<table border=\"1\" class=\"dataframe\">\n",
       "  <thead>\n",
       "    <tr style=\"text-align: right;\">\n",
       "      <th></th>\n",
       "      <th>col1</th>\n",
       "      <th>col2</th>\n",
       "      <th>卡方值</th>\n",
       "      <th>独立性检验P值</th>\n",
       "      <th>alpha=0.05独立性检验</th>\n",
       "    </tr>\n",
       "  </thead>\n",
       "  <tbody>\n",
       "    <tr>\n",
       "      <th>0</th>\n",
       "      <td>上肢静止性震颤</td>\n",
       "      <td>下肢静止性震颤</td>\n",
       "      <td>9.425588</td>\n",
       "      <td>2.139784e-03</td>\n",
       "      <td>False</td>\n",
       "    </tr>\n",
       "    <tr>\n",
       "      <th>0</th>\n",
       "      <td>上肢静止性震颤</td>\n",
       "      <td>四肢静止性震颤</td>\n",
       "      <td>198.082345</td>\n",
       "      <td>5.474154e-45</td>\n",
       "      <td>False</td>\n",
       "    </tr>\n",
       "  </tbody>\n",
       "</table>\n",
       "</div>"
      ],
      "text/plain": [
       "      col1     col2         卡方值       独立性检验P值  alpha=0.05独立性检验\n",
       "0  上肢静止性震颤  下肢静止性震颤    9.425588  2.139784e-03            False\n",
       "0  上肢静止性震颤  四肢静止性震颤  198.082345  5.474154e-45            False"
      ]
     },
     "execution_count": 57,
     "metadata": {},
     "output_type": "execute_result"
    }
   ],
   "source": [
    "# 对结果进行清洗\n",
    "result[\"col2\"].replace(\"有无\",\"\",inplace = True)\n",
    "result[\"col1\"].replace(\"有无\",\"\",inplace = True)\n",
    "result[\"col2\"].replace(\"分数\",\"\",inplace = True)\n",
    "result[\"col2\"].replace(\"总分\",\"\",inplace = True)\n",
    "result[\"col1\"].replace(\"分数\",\"\",inplace = True)\n",
    "result[\"col1\"].replace(\"总分\",\"\",inplace = True)\n",
    "result.head(2) "
   ]
  },
  {
   "cell_type": "markdown",
   "metadata": {},
   "source": [
    "# <b>第五步 可视化 </b>\n",
    "对统计检验结果，可视化展示有利于了解整体分布情况\n",
    "\n",
    "<b>1) pvalue的热力图 </b>\n",
    "\n",
    "颜色越深：p值越大，两类病症越可能独立\n"
   ]
  },
  {
   "cell_type": "code",
   "execution_count": 58,
   "metadata": {},
   "outputs": [
    {
     "data": {
      "text/html": [
       "<div>\n",
       "<style scoped>\n",
       "    .dataframe tbody tr th:only-of-type {\n",
       "        vertical-align: middle;\n",
       "    }\n",
       "\n",
       "    .dataframe tbody tr th {\n",
       "        vertical-align: top;\n",
       "    }\n",
       "\n",
       "    .dataframe thead th {\n",
       "        text-align: right;\n",
       "    }\n",
       "</style>\n",
       "<table border=\"1\" class=\"dataframe\">\n",
       "  <thead>\n",
       "    <tr style=\"text-align: right;\">\n",
       "      <th></th>\n",
       "      <th>下肢震颤</th>\n",
       "      <th>下肢静止性震颤</th>\n",
       "      <th>四肢静止性震颤</th>\n",
       "      <th>声音</th>\n",
       "      <th>声颈有无</th>\n",
       "      <th>抑郁分类</th>\n",
       "      <th>焦虑分类</th>\n",
       "      <th>运动性上肢震颤总分有无</th>\n",
       "      <th>运动性下肢震颤分数有无</th>\n",
       "      <th>运动性四肢震颤总分有无</th>\n",
       "      <th>面声颈有无</th>\n",
       "      <th>面部</th>\n",
       "      <th>颈部</th>\n",
       "    </tr>\n",
       "  </thead>\n",
       "  <tbody>\n",
       "    <tr>\n",
       "      <th>上肢静止性震颤</th>\n",
       "      <td>0.939919</td>\n",
       "      <td>0.00214</td>\n",
       "      <td>5.474154e-45</td>\n",
       "      <td>0.788013</td>\n",
       "      <td>0.981556</td>\n",
       "      <td>0.291114</td>\n",
       "      <td>0.454295</td>\n",
       "      <td>1.0</td>\n",
       "      <td>0.939919</td>\n",
       "      <td>1.0</td>\n",
       "      <td>0.872931</td>\n",
       "      <td>0.860934</td>\n",
       "      <td>0.826992</td>\n",
       "    </tr>\n",
       "    <tr>\n",
       "      <th>下肢震颤</th>\n",
       "      <td>0.000000</td>\n",
       "      <td>0.00000</td>\n",
       "      <td>0.000000e+00</td>\n",
       "      <td>0.298402</td>\n",
       "      <td>0.079676</td>\n",
       "      <td>0.994536</td>\n",
       "      <td>0.466992</td>\n",
       "      <td>0.0</td>\n",
       "      <td>0.000000</td>\n",
       "      <td>0.0</td>\n",
       "      <td>0.113855</td>\n",
       "      <td>0.896640</td>\n",
       "      <td>0.711781</td>\n",
       "    </tr>\n",
       "    <tr>\n",
       "      <th>下肢静止性震颤</th>\n",
       "      <td>0.305456</td>\n",
       "      <td>0.00000</td>\n",
       "      <td>2.139784e-03</td>\n",
       "      <td>0.907275</td>\n",
       "      <td>0.473175</td>\n",
       "      <td>0.647463</td>\n",
       "      <td>0.907275</td>\n",
       "      <td>1.0</td>\n",
       "      <td>0.305456</td>\n",
       "      <td>1.0</td>\n",
       "      <td>0.423448</td>\n",
       "      <td>0.380610</td>\n",
       "      <td>0.697887</td>\n",
       "    </tr>\n",
       "    <tr>\n",
       "      <th>四肢静止性震颤</th>\n",
       "      <td>0.939919</td>\n",
       "      <td>0.00000</td>\n",
       "      <td>0.000000e+00</td>\n",
       "      <td>0.788013</td>\n",
       "      <td>0.981556</td>\n",
       "      <td>0.291114</td>\n",
       "      <td>0.454295</td>\n",
       "      <td>1.0</td>\n",
       "      <td>0.939919</td>\n",
       "      <td>1.0</td>\n",
       "      <td>0.872931</td>\n",
       "      <td>0.860934</td>\n",
       "      <td>0.826992</td>\n",
       "    </tr>\n",
       "  </tbody>\n",
       "</table>\n",
       "</div>"
      ],
      "text/plain": [
       "             下肢震颤  下肢静止性震颤       四肢静止性震颤        声音      声颈有无      抑郁分类  \\\n",
       "上肢静止性震颤  0.939919  0.00214  5.474154e-45  0.788013  0.981556  0.291114   \n",
       "下肢震颤     0.000000  0.00000  0.000000e+00  0.298402  0.079676  0.994536   \n",
       "下肢静止性震颤  0.305456  0.00000  2.139784e-03  0.907275  0.473175  0.647463   \n",
       "四肢静止性震颤  0.939919  0.00000  0.000000e+00  0.788013  0.981556  0.291114   \n",
       "\n",
       "             焦虑分类  运动性上肢震颤总分有无  运动性下肢震颤分数有无  运动性四肢震颤总分有无     面声颈有无        面部  \\\n",
       "上肢静止性震颤  0.454295          1.0     0.939919          1.0  0.872931  0.860934   \n",
       "下肢震颤     0.466992          0.0     0.000000          0.0  0.113855  0.896640   \n",
       "下肢静止性震颤  0.907275          1.0     0.305456          1.0  0.423448  0.380610   \n",
       "四肢静止性震颤  0.454295          1.0     0.939919          1.0  0.872931  0.860934   \n",
       "\n",
       "               颈部  \n",
       "上肢静止性震颤  0.826992  \n",
       "下肢震颤     0.711781  \n",
       "下肢静止性震颤  0.697887  \n",
       "四肢静止性震颤  0.826992  "
      ]
     },
     "execution_count": 58,
     "metadata": {},
     "output_type": "execute_result"
    }
   ],
   "source": [
    "pvalue = result.pivot(index=\"col1\",columns = 'col2' , values ='独立性检验P值')  #交叉表适合排列\n",
    "pvalue = pd.DataFrame(pvalue)\n",
    "pvalue.columns = pvalue.columns.tolist()\n",
    "pvalue.index = pvalue.index.tolist()\n",
    "pvalue = pvalue.filter(items = pvalue.index)\n",
    "pvalue = pvalue.fillna(0)\n",
    "pvalue.head(4)"
   ]
  },
  {
   "cell_type": "code",
   "execution_count": 59,
   "metadata": {},
   "outputs": [
    {
     "data": {
      "image/png": "[encoded data removed]",
      "text/plain": [
       "<Figure size 720x720 with 2 Axes>"
      ]
     },
     "metadata": {
      "needs_background": "light"
     },
     "output_type": "display_data"
    }
   ],
   "source": [
    "#sns.set(font=myfont.get_family())  \n",
    "plt.subplots(figsize=(10, 10)) # 设置画面大小\n",
    "sns.heatmap(pvalue, annot=True, vmax=1, square=True, cmap=\"Blues\")\n",
    "plt.show()"
   ]
  },
  {
   "cell_type": "markdown",
   "metadata": {},
   "source": [
    "<b> 2) 推断结果的热力图 </b>\n",
    "\n",
    "蓝色：接受原假设，两变量独立\n",
    "\n",
    "白色：不能接受原假设，两变量不独立"
   ]
  },
  {
   "cell_type": "code",
   "execution_count": 60,
   "metadata": {},
   "outputs": [],
   "source": [
    "pvalue_1 = pvalue\n",
    "pvalue_1[pvalue_1 >= 0.05] = 1\n",
    "pvalue_1[pvalue_1 < 0.05] = 0"
   ]
  },
  {
   "cell_type": "code",
   "execution_count": 61,
   "metadata": {},
   "outputs": [
    {
     "data": {
      "image/png": "[encoded data removed]",
      "text/plain": [
       "<Figure size 720x720 with 2 Axes>"
      ]
     },
     "metadata": {
      "needs_background": "light"
     },
     "output_type": "display_data"
    }
   ],
   "source": [
    "plt.subplots(figsize=(10, 10)) # 设置画面大小\n",
    "sns.heatmap(pvalue_1, annot=True, vmax=1, square=True, cmap=\"Blues\")\n",
    "plt.show()"
   ]
  },
  {
   "cell_type": "code",
   "execution_count": 62,
   "metadata": {},
   "outputs": [],
   "source": [
    "midline1.to_csv(dir+\"output/midline1.csv\")"
   ]
  },
  {
   "cell_type": "code",
   "execution_count": null,
   "metadata": {},
   "outputs": [],
   "source": []
  }
 ],
 "metadata": {
  "kernelspec": {
   "display_name": "Python 3",
   "language": "python",
   "name": "python3"
  },
  "language_info": {
   "codemirror_mode": {
    "name": "ipython",
    "version": 3
   },
   "file_extension": ".py",
   "mimetype": "text/x-python",
   "name": "python",
   "nbconvert_exporter": "python",
   "pygments_lexer": "ipython3",
   "version": "3.7.1"
  }
 },
 "nbformat": 4,
 "nbformat_minor": 2
}
